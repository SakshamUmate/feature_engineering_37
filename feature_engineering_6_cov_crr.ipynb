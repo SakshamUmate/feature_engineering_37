{
 "cells": [
  {
   "cell_type": "markdown",
   "metadata": {},
   "source": [
    "### Q1. Pearson correlation coefficient is a measure of the linear relationship between two variables. Suppose you have collected data on the amount of time students spend studying for an exam and their final exam scores. Calculate the Pearson correlation coefficient between these two variables and interpret the result."
   ]
  },
  {
   "cell_type": "markdown",
   "metadata": {},
   "source": [
    "### Calculation of Pearson Correlation Coefficient\n",
    "\n",
    "### Step-by-Step Solution\n",
    "\n",
    "### 1. Collect the Data\n",
    "Assume we have the following data points:\n",
    "- Study time (hours): $[2, 3, 4, 5, 6, 7, 8, 9]$\n",
    "- Exam scores: $[55, 60, 65, 70, 75, 80, 85, 90]$\n",
    "\n",
    "### 2. Calculate the Means\n",
    "Compute the mean of the study times and the mean of the exam scores.\n",
    "\n",
    "$\n",
    "\\bar{X} = \\frac{2 + 3 + 4 + 5 + 6 + 7 + 8 + 9}{8} = 5.5\n",
    "$\n",
    "\n",
    "$\n",
    "\\bar{Y} = \\frac{55 + 60 + 65 + 70 + 75 + 80 + 85 + 90}{8} = 72.5\n",
    "$\n",
    "\n",
    "### 3. Calculate the Differences from the Mean\n",
    "For each data point, subtract the mean of the study times and the mean of the exam scores.\n",
    "\n",
    "$\n",
    "(X_i - \\bar{X}) = [2-5.5, 3-5.5, 4-5.5, 5-5.5, 6-5.5, 7-5.5, 8-5.5, 9-5.5] = [-3.5, -2.5, -1.5, -0.5, 0.5, 1.5, 2.5, 3.5]\n",
    "$\n",
    "\n",
    "$\n",
    "(Y_i - \\bar{Y}) = [55-72.5, 60-72.5, 65-72.5, 70-72.5, 75-72.5, 80-72.5, 85-72.5, 90-72.5] = [-17.5, -12.5, -7.5, -2.5, 2.5, 7.5, 12.5, 17.5]\n",
    "$\n",
    "\n",
    "### 4. Calculate the Product of Differences\n",
    "Multiply each difference from the mean of study times by the corresponding difference from the mean of exam scores.\n",
    "\n",
    "$\n",
    "(X_i - \\bar{X})(Y_i - \\bar{Y}) = [(-3.5)(-17.5), (-2.5)(-12.5), (-1.5)(-7.5), (-0.5)(-2.5), (0.5)(2.5), (1.5)(7.5), (2.5)(12.5), (3.5)(17.5)]\n",
    "$\n",
    "\n",
    "$\n",
    "= [61.25, 31.25, 11.25, 1.25, 1.25, 11.25, 31.25, 61.25]\n",
    "$\n",
    "\n",
    "### 5. Sum the Products of Differences\n",
    "$\n",
    "\\sum (X_i - \\bar{X})(Y_i - \\bar{Y}) = 61.25 + 31.25 + 11.25 + 1.25 + 1.25 + 11.25 + 31.25 + 61.25 = 210\n",
    "$\n",
    "\n",
    "### 6. Calculate the Sum of Squared Differences\n",
    "$\n",
    "\\sum (X_i - \\bar{X})^2 = (-3.5)^2 + (-2.5)^2 + (-1.5)^2 + (-0.5)^2 + (0.5)^2 + (1.5)^2 + (2.5)^2 + (3.5)^2 = 49\n",
    "$\n",
    "\n",
    "$\n",
    "\\sum (Y_i - \\bar{Y})^2 = (-17.5)^2 + (-12.5)^2 + (-7.5)^2 + (-2.5)^2 + (2.5)^2 + (7.5)^2 + (12.5)^2 + (17.5)^2 = 1225\n",
    "$\n",
    "\n",
    "### 7. Calculate the Pearson Correlation Coefficient\n",
    "$\n",
    "r = \\frac{\\sum (X_i - \\bar{X})(Y_i - \\bar{Y})}{\\sqrt{\\sum (X_i - \\bar{X})^2 \\sum (Y_i - \\bar{Y})^2}} = \\frac{210}{\\sqrt{49 \\times 1225}} = \\frac{210}{\\sqrt{60025}} = \\frac{210}{245} = 0.857\n",
    "$\n",
    "\n",
    "### Interpretation of the Result\n",
    "The Pearson correlation coefficient is $ r = 0.857 $. This indicates a strong positive linear relationship between the amount of time students spend studying and their final exam scores.\n"
   ]
  },
  {
   "cell_type": "code",
   "execution_count": 12,
   "metadata": {},
   "outputs": [
    {
     "name": "stdout",
     "output_type": "stream",
     "text": [
      "covarience: [[  6.  30.]\n",
      " [ 30. 150.]]\n"
     ]
    },
    {
     "data": {
      "text/html": [
       "<div>\n",
       "<style scoped>\n",
       "    .dataframe tbody tr th:only-of-type {\n",
       "        vertical-align: middle;\n",
       "    }\n",
       "\n",
       "    .dataframe tbody tr th {\n",
       "        vertical-align: top;\n",
       "    }\n",
       "\n",
       "    .dataframe thead th {\n",
       "        text-align: right;\n",
       "    }\n",
       "</style>\n",
       "<table border=\"1\" class=\"dataframe\">\n",
       "  <thead>\n",
       "    <tr style=\"text-align: right;\">\n",
       "      <th></th>\n",
       "      <th>Study_time</th>\n",
       "      <th>Exam_scores</th>\n",
       "    </tr>\n",
       "  </thead>\n",
       "  <tbody>\n",
       "    <tr>\n",
       "      <th>Study_time</th>\n",
       "      <td>1.0</td>\n",
       "      <td>1.0</td>\n",
       "    </tr>\n",
       "    <tr>\n",
       "      <th>Exam_scores</th>\n",
       "      <td>1.0</td>\n",
       "      <td>1.0</td>\n",
       "    </tr>\n",
       "  </tbody>\n",
       "</table>\n",
       "</div>"
      ],
      "text/plain": [
       "             Study_time  Exam_scores\n",
       "Study_time          1.0          1.0\n",
       "Exam_scores         1.0          1.0"
      ]
     },
     "execution_count": 12,
     "metadata": {},
     "output_type": "execute_result"
    }
   ],
   "source": [
    "Study_time= [2, 3, 4, 5, 6, 7, 8, 9]\n",
    "Exam_scores= [55, 60, 65, 70, 75, 80, 85, 90]\n",
    "import numpy as np\n",
    "\n",
    "print(\"covarience:\",np.cov(Study_time,Exam_scores))\n",
    "# print(\"correlation:\",np.corrcoef(Study_time,Exam_scores))\n",
    "import pandas as pd\n",
    "df= pd.DataFrame({'Study_time': Study_time, 'Exam_scores': Exam_scores})\n",
    "df.corr(method=\"pearson\")"
   ]
  },
  {
   "cell_type": "markdown",
   "metadata": {},
   "source": [
    "### Q2. Spearman's rank correlation is a measure of the monotonic relationship between two variables.Suppose you have collected data on the amount of sleep individuals get each night and their overall job satisfaction level on a scale of 1 to 10. Calculate the Spearman's rank correlation between these two variables and interpret the result."
   ]
  },
  {
   "cell_type": "markdown",
   "metadata": {},
   "source": [
    "### Calculation of Spearman's Rank Correlation\n",
    "\n",
    "### Step-by-Step Solution\n",
    "\n",
    "### 1. Collect the Data\n",
    "Assume we have the following data points:\n",
    "- Sleep (hours): $[6, 7, 8, 9, 5, 4, 6, 7, 8, 10]$\n",
    "- Job satisfaction (1-10): $[7, 8, 9, 10, 6, 5, 7, 8, 9, 10]$\n",
    "\n",
    "### 2. Rank the Data\n",
    "Rank the sleep hours and job satisfaction scores. If there are ties, assign the average rank.\n",
    "\n",
    "#### Sleep Ranks:\n",
    "$\n",
    "[6, 7, 8, 9, 5, 4, 6, 7, 8, 10] \\rightarrow [3.5, 6, 8, 9, 2, 1, 3.5, 6, 8, 10]\n",
    "$\n",
    "\n",
    "#### Job Satisfaction Ranks:\n",
    "$\n",
    "[7, 8, 9, 10, 6, 5, 7, 8, 9, 10] \\rightarrow [3.5, 6, 8, 9.5, 2, 1, 3.5, 6, 8, 9.5]\n",
    "$\n",
    "\n",
    "### 3. Calculate the Difference of Ranks and Square the Differences\n",
    "$\n",
    "D_i = R_{Xi} - R_{Yi}\n",
    "$\n",
    "\n",
    "$\n",
    "D_i = [0, 0, 0, -0.5, 0, 0, 0, 0, 0, 0.5]\n",
    "$\n",
    "\n",
    "$\n",
    "D_i^2 = [0, 0, 0, 0.25, 0, 0, 0, 0, 0, 0.25]\n",
    "$\n",
    "\n",
    "### 4. Sum the Squared Differences\n",
    "$\n",
    "\\sum D_i^2 = 0 + 0 + 0 + 0.25 + 0 + 0 + 0 + 0 + 0 + 0.25 = 0.5\n",
    "$\n",
    "\n",
    "### 5. Calculate the Spearman's Rank Correlation Coefficient\n",
    "$\n",
    "r_s = 1 - \\frac{6 \\sum D_i^2}{n (n^2 - 1)}\n",
    "$\n",
    "\n",
    "$\n",
    "r_s = 1 - \\frac{6 \\times 0.5}{10 (10^2 - 1)} = 1 - \\frac{3}{990} = 1 - 0.00303 = 0.99697\n",
    "$\n",
    "\n",
    "### Interpretation of the Result\n",
    "The Spearman's rank correlation coefficient is $ r_s = 0.997 $. This indicates a very strong positive monotonic relationship between the amount of sleep individuals get each night and their overall job satisfaction level.\n"
   ]
  },
  {
   "cell_type": "code",
   "execution_count": 15,
   "metadata": {},
   "outputs": [
    {
     "data": {
      "text/plain": [
       "0.9969088024959091"
      ]
     },
     "execution_count": 15,
     "metadata": {},
     "output_type": "execute_result"
    }
   ],
   "source": [
    "import numpy as np\n",
    "import scipy.stats as stats\n",
    "\n",
    "# Data\n",
    "sleep_hours = np.array([6, 7, 8, 9, 5, 4, 6, 7, 8, 10])\n",
    "job_satisfaction = np.array([7, 8, 9, 10, 6, 5, 7, 8, 9, 10])\n",
    "\n",
    "# Calculate Spearman's rank correlation\n",
    "spearman_corr, _ = stats.spearmanr(sleep_hours, job_satisfaction)\n",
    "\n",
    "spearman_corr\n"
   ]
  },
  {
   "cell_type": "markdown",
   "metadata": {},
   "source": [
    "### Q3. Suppose you are conducting a study to examine the relationship between the number of hours of exercise per week and body mass index (BMI) in a sample of adults. You collected data on both variables for 50 participants. Calculate the Pearson correlation coefficient and the Spearman's rank correlation between these two variables and compare the results."
   ]
  },
  {
   "cell_type": "markdown",
   "metadata": {},
   "source": [
    "### Study on Exercise Hours and BMI\n",
    "\n",
    "### Step-by-Step Solution\n",
    "\n",
    "### 1. Collect the Data\n",
    "Assume we have the following data points for 50 participants:\n",
    "- Exercise hours (per week): $[h_1, h_2, ..., h_{50}]$\n",
    "- BMI: $[b_1, b_2, ..., b_{50}]$\n",
    "\n",
    "For this example, we'll generate random data to simulate the study.\n",
    "\n",
    "### 2. Calculate the Pearson Correlation Coefficient\n",
    "\n",
    "\n"
   ]
  },
  {
   "cell_type": "code",
   "execution_count": 16,
   "metadata": {},
   "outputs": [
    {
     "data": {
      "text/plain": [
       "0.12581224413646033"
      ]
     },
     "execution_count": 16,
     "metadata": {},
     "output_type": "execute_result"
    }
   ],
   "source": [
    "import numpy as np\n",
    "import scipy.stats as stats\n",
    "\n",
    "# Generate random data for demonstration purposes\n",
    "np.random.seed(0)\n",
    "exercise_hours = np.random.randint(0, 10, 50)\n",
    "bmi = np.random.uniform(18, 35, 50)\n",
    "\n",
    "# Calculate Pearson correlation coefficient\n",
    "pearson_corr, _ = stats.pearsonr(exercise_hours, bmi)\n",
    "pearson_corr\n"
   ]
  },
  {
   "cell_type": "markdown",
   "metadata": {},
   "source": [
    "### Q4. A researcher is interested in examining the relationship between the number of hours individuals spend watching television per day and their level of physical activity. The researcher collected data on both variables from a sample of 50 participants. Calculate the Pearson correlation coefficient between these two variables."
   ]
  },
  {
   "cell_type": "markdown",
   "metadata": {},
   "source": [
    "### Study on Television Watching Hours and Physical Activity Levels\n",
    "\n",
    "### Step-by-Step Solution\n",
    "\n",
    "### 1. Collect the Data\n",
    "Assume we have the following data points for 50 participants:\n",
    "- TV watching hours (per day): \\([t_1, t_2, ..., t_{50}]\\)\n",
    "- Physical activity level (hours per week): \\([p_1, p_2, ..., p_{50}]\\)\n",
    "\n",
    "For this example, we'll generate random data to simulate the study.\n",
    "\n",
    "### 2. Calculate the Pearson Correlation Coefficient\n",
    "\n",
    "\n"
   ]
  },
  {
   "cell_type": "code",
   "execution_count": 18,
   "metadata": {},
   "outputs": [
    {
     "data": {
      "text/plain": [
       "0.16978199632731406"
      ]
     },
     "execution_count": 18,
     "metadata": {},
     "output_type": "execute_result"
    }
   ],
   "source": [
    "import numpy as np\n",
    "import scipy.stats as stats\n",
    "\n",
    "# Generate random data for demonstration purposes\n",
    "np.random.seed(1)\n",
    "tv_hours = np.random.randint(1, 5, 50)  # TV watching hours per day\n",
    "physical_activity = np.random.randint(0, 10, 50)  # Physical activity hours per week\n",
    "\n",
    "# Calculate Pearson correlation coefficient\n",
    "pearson_corr, _ = stats.pearsonr(tv_hours, physical_activity)\n",
    "\n",
    "pearson_corr\n"
   ]
  },
  {
   "cell_type": "markdown",
   "metadata": {},
   "source": [
    "### Q5. A survey was conducted to examine the relationship between age and preference for a particular brand of soft drink. The survey results are shown below:"
   ]
  },
  {
   "attachments": {
    "image.png": {
     "image/png": "[encoded data removed]"
    }
   },
   "cell_type": "markdown",
   "metadata": {},
   "source": [
    "![image.png](attachment:image.png)"
   ]
  },
  {
   "cell_type": "markdown",
   "metadata": {},
   "source": [
    "### Survey on Age and Soft Drink Preference\n",
    "\n",
    "## Data\n",
    "The survey results are as follows:\n",
    "\n",
    "| Age (Years) | Soft Drink Preference |\n",
    "|-------------|-----------------------|\n",
    "| 25          | Coke                  |\n",
    "| 42          | Pepsi                 |\n",
    "| 37          | Mountain Dew          |\n",
    "| 19          | Coke                  |\n",
    "| 31          | Pepsi                 |\n",
    "| 28          | Coke                  |\n",
    "\n",
    "## Analysis\n",
    "To examine the relationship between age and soft drink preference, we need to use a method that can handle categorical data. The Pearson correlation coefficient is not suitable for this type of data. Instead, we can use chi-square tests to assess the association between categorical variables.\n",
    "\n",
    "### Step-by-Step Solution\n",
    "\n",
    "### 1. Encode the Categorical Data\n",
    "We'll encode the soft drink preferences as numerical values for simplicity:\n",
    "- Coke = 1\n",
    "- Pepsi = 2\n",
    "- Mountain Dew = 3\n",
    "\n",
    "### 2. Prepare the Data"
   ]
  },
  {
   "cell_type": "code",
   "execution_count": 20,
   "metadata": {},
   "outputs": [
    {
     "data": {
      "text/plain": [
       "(12.0, 0.2850565003166312)"
      ]
     },
     "execution_count": 20,
     "metadata": {},
     "output_type": "execute_result"
    }
   ],
   "source": [
    "\n",
    "import numpy as np\n",
    "import pandas as pd\n",
    "from scipy.stats import chi2_contingency\n",
    "\n",
    "# Data\n",
    "age = [25, 42, 37, 19, 31, 28]\n",
    "soft_drink_preference = [1, 2, 3, 1, 2, 1]  # Encoded preferences\n",
    "\n",
    "# Create a DataFrame\n",
    "data = pd.DataFrame({'Age': age, 'Soft Drink Preference': soft_drink_preference})\n",
    "\n",
    "# Create a contingency table\n",
    "contingency_table = pd.crosstab(data['Age'], data['Soft Drink Preference'])\n",
    "\n",
    "# Perform chi-square test\n",
    "chi2, p, dof, expected = chi2_contingency(contingency_table)\n",
    "\n",
    "chi2, p\n"
   ]
  },
  {
   "cell_type": "markdown",
   "metadata": {},
   "source": [
    "### Q6. A company is interested in examining the relationship between the number of sales calls made per day and the number of sales made per week. The company collected data on both variables from a sample of 30 sales representatives. Calculate the Pearson correlation coefficient between these two variables."
   ]
  },
  {
   "cell_type": "markdown",
   "metadata": {},
   "source": [
    "### Study on Sales Calls and Sales Made\n",
    "\n",
    "### Step-by-Step Solution\n",
    "\n",
    "### 1. Collect the Data\n",
    "Assume we have the following data points for 30 sales representatives:\n",
    "- Sales calls made per day: \\([c_1, c_2, ..., c_{30}]\\)\n",
    "- Sales made per week: \\([s_1, s_2, ..., s_{30}]\\)\n",
    "\n",
    "For this example, we'll generate random data to simulate the study.\n",
    "\n",
    "### 2. Calculate the Pearson Correlation Coefficient\n",
    "\n"
   ]
  },
  {
   "cell_type": "code",
   "execution_count": 19,
   "metadata": {},
   "outputs": [
    {
     "data": {
      "text/plain": [
       "-0.2995768874689612"
      ]
     },
     "execution_count": 19,
     "metadata": {},
     "output_type": "execute_result"
    }
   ],
   "source": [
    "import numpy as np\n",
    "import scipy.stats as stats\n",
    "\n",
    "# Generate random data for demonstration purposes\n",
    "np.random.seed(2)\n",
    "sales_calls = np.random.randint(10, 50, 30)  # Sales calls made per day\n",
    "sales_made = np.random.randint(20, 100, 30)  # Sales made per week\n",
    "\n",
    "# Calculate Pearson correlation coefficient\n",
    "pearson_corr, _ = stats.pearsonr(sales_calls, sales_made)\n",
    "pearson_corr"
   ]
  },
  {
   "cell_type": "code",
   "execution_count": null,
   "metadata": {},
   "outputs": [],
   "source": []
  }
 ],
 "metadata": {
  "kernelspec": {
   "display_name": "Python 3",
   "language": "python",
   "name": "python3"
  },
  "language_info": {
   "codemirror_mode": {
    "name": "ipython",
    "version": 3
   },
   "file_extension": ".py",
   "mimetype": "text/x-python",
   "name": "python",
   "nbconvert_exporter": "python",
   "pygments_lexer": "ipython3",
   "version": "3.11.4"
  }
 },
 "nbformat": 4,
 "nbformat_minor": 2
}
